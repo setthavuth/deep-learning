{
 "cells": [
  {
   "cell_type": "code",
   "execution_count": 1,
   "metadata": {},
   "outputs": [],
   "source": [
    "import numpy as np\n",
    "import pandas as pd\n",
    "import os"
   ]
  },
  {
   "cell_type": "code",
   "execution_count": 2,
   "metadata": {},
   "outputs": [],
   "source": [
    "def read_img(image_dir, label):\n",
    "    dir_list = [x for x in os.walk(os.path.join(os.getcwd(), image_dir))][1:]\n",
    "    \n",
    "    labelFile = pd.read_csv(label)\n",
    "    \n",
    "    Class = {\n",
    "    0: [1, 0, 0, 0, 0],\n",
    "    1: [0, 1, 0, 0, 0],\n",
    "    2: [0, 0, 1, 0, 0],\n",
    "    3: [0, 0, 0, 1, 0],\n",
    "    4: [0, 0, 0, 0, 1]\n",
    "    }\n",
    "    \n",
    "    labelFile[\"level\"] = labelFile[\"level\"].map(Class)\n",
    "    lab = dict(zip(labelFile.image, labelFile.level))\n",
    "    \n",
    "    filenames = []\n",
    "    target_class = []\n",
    "    \n",
    "    for d in dir_list:\n",
    "        for fname in d[2]:\n",
    "            filename = os.path.join(d[0], fname)\n",
    "            filenames.append(filename)\n",
    "            fname = fname.split(\".jpeg\")[0]\n",
    "            target_class.append(lab[fname])\n",
    "            \n",
    "    return filenames, target_class"
   ]
  },
  {
   "cell_type": "code",
   "execution_count": 3,
   "metadata": {
    "scrolled": true
   },
   "outputs": [],
   "source": [
    "image_list, Class = read_img(\"/home/ubuntu/Desktop/CNNs/train\", \"trainLabels.csv\")"
   ]
  },
  {
   "cell_type": "code",
   "execution_count": 4,
   "metadata": {},
   "outputs": [],
   "source": [
    "import tensorflow as tf"
   ]
  },
  {
   "cell_type": "code",
   "execution_count": 24,
   "metadata": {},
   "outputs": [],
   "source": [
    "filename_queue = tf.train.string_input_producer(image_list) #  list of files to read\n",
    "\n",
    "reader = tf.WholeFileReader()\n",
    "key, value = reader.read(filename_queue)\n",
    "\n",
    "my_img = tf.image.decode_jpeg(value, channels=1) # use png or jpg decoder based on your files.\n",
    "my_img = tf.image.resize_images(my_img, (512, 512))\n",
    "imgs = []\n",
    "\n",
    "init_op = tf.global_variables_initializer()\n",
    "with tf.Session() as sess:\n",
    "    sess.run(init_op)\n",
    "\n",
    "# Start populating the filename queue.\n",
    "\n",
    "    coord = tf.train.Coordinator()\n",
    "    threads = tf.train.start_queue_runners(coord=coord)\n",
    "\n",
    "    for i in range(len(image_list)): #length of your filename list\n",
    "        image = my_img.eval() #here is your image Tensor :) \n",
    "        \n",
    "        imgs.append(image)\n",
    "\n",
    "coord.request_stop()\n",
    "coord.join(threads)"
   ]
  },
  {
   "cell_type": "code",
   "execution_count": 25,
   "metadata": {},
   "outputs": [],
   "source": [
    "x = tf.placeholder(tf.float32, shape=[None, 512, 512, 1])"
   ]
  },
  {
   "cell_type": "code",
   "execution_count": 26,
   "metadata": {},
   "outputs": [],
   "source": [
    "with tf.Session() as sess:\n",
    "    sess.run(x, feed_dict={x:imgs})"
   ]
  },
  {
   "cell_type": "code",
   "execution_count": 9,
   "metadata": {},
   "outputs": [
    {
     "data": {
      "text/plain": [
       "(512, 512, 3)"
      ]
     },
     "execution_count": 9,
     "metadata": {},
     "output_type": "execute_result"
    }
   ],
   "source": [
    "imgs[0].shape"
   ]
  },
  {
   "cell_type": "code",
   "execution_count": 68,
   "metadata": {},
   "outputs": [],
   "source": []
  },
  {
   "cell_type": "code",
   "execution_count": null,
   "metadata": {},
   "outputs": [],
   "source": []
  }
 ],
 "metadata": {
  "kernelspec": {
   "display_name": "Python 2",
   "language": "python",
   "name": "python2"
  },
  "language_info": {
   "codemirror_mode": {
    "name": "ipython",
    "version": 2
   },
   "file_extension": ".py",
   "mimetype": "text/x-python",
   "name": "python",
   "nbconvert_exporter": "python",
   "pygments_lexer": "ipython2",
   "version": "2.7.12"
  }
 },
 "nbformat": 4,
 "nbformat_minor": 2
}
